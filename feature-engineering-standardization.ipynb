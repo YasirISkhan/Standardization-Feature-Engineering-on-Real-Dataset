{
 "cells": [
  {
   "cell_type": "code",
   "execution_count": 1,
   "id": "8915796a",
   "metadata": {
    "_cell_guid": "b1076dfc-b9ad-4769-8c92-a6c4dae69d19",
    "_uuid": "8f2839f25d086af736a60e9eeb907d3b93b6e0e5",
    "execution": {
     "iopub.execute_input": "2024-07-08T18:20:54.079370Z",
     "iopub.status.busy": "2024-07-08T18:20:54.078892Z",
     "iopub.status.idle": "2024-07-08T18:20:56.411585Z",
     "shell.execute_reply": "2024-07-08T18:20:56.410207Z"
    },
    "papermill": {
     "duration": 2.344963,
     "end_time": "2024-07-08T18:20:56.414640",
     "exception": false,
     "start_time": "2024-07-08T18:20:54.069677",
     "status": "completed"
    },
    "tags": []
   },
   "outputs": [],
   "source": [
    "# Importing all essential Python libraries\n",
    "import numpy as np\n",
    "import pandas as pd\n",
    "import seaborn as sns\n",
    "import matplotlib.pyplot as plt"
   ]
  },
  {
   "cell_type": "code",
   "execution_count": 2,
   "id": "f8897294",
   "metadata": {
    "execution": {
     "iopub.execute_input": "2024-07-08T18:20:56.432613Z",
     "iopub.status.busy": "2024-07-08T18:20:56.432086Z",
     "iopub.status.idle": "2024-07-08T18:20:56.472774Z",
     "shell.execute_reply": "2024-07-08T18:20:56.471637Z"
    },
    "papermill": {
     "duration": 0.053333,
     "end_time": "2024-07-08T18:20:56.475588",
     "exception": false,
     "start_time": "2024-07-08T18:20:56.422255",
     "status": "completed"
    },
    "tags": []
   },
   "outputs": [],
   "source": [
    "df = pd.read_csv('/kaggle/input/weight-height/weight-height.csv')"
   ]
  },
  {
   "cell_type": "code",
   "execution_count": 3,
   "id": "ff997cd7",
   "metadata": {
    "execution": {
     "iopub.execute_input": "2024-07-08T18:20:56.491578Z",
     "iopub.status.busy": "2024-07-08T18:20:56.491155Z",
     "iopub.status.idle": "2024-07-08T18:20:56.515577Z",
     "shell.execute_reply": "2024-07-08T18:20:56.514385Z"
    },
    "papermill": {
     "duration": 0.035148,
     "end_time": "2024-07-08T18:20:56.517989",
     "exception": false,
     "start_time": "2024-07-08T18:20:56.482841",
     "status": "completed"
    },
    "tags": []
   },
   "outputs": [
    {
     "data": {
      "text/html": [
       "<div>\n",
       "<style scoped>\n",
       "    .dataframe tbody tr th:only-of-type {\n",
       "        vertical-align: middle;\n",
       "    }\n",
       "\n",
       "    .dataframe tbody tr th {\n",
       "        vertical-align: top;\n",
       "    }\n",
       "\n",
       "    .dataframe thead th {\n",
       "        text-align: right;\n",
       "    }\n",
       "</style>\n",
       "<table border=\"1\" class=\"dataframe\">\n",
       "  <thead>\n",
       "    <tr style=\"text-align: right;\">\n",
       "      <th></th>\n",
       "      <th>Gender</th>\n",
       "      <th>Height</th>\n",
       "      <th>Weight</th>\n",
       "    </tr>\n",
       "  </thead>\n",
       "  <tbody>\n",
       "    <tr>\n",
       "      <th>0</th>\n",
       "      <td>Male</td>\n",
       "      <td>73.847017</td>\n",
       "      <td>241.893563</td>\n",
       "    </tr>\n",
       "    <tr>\n",
       "      <th>1</th>\n",
       "      <td>Male</td>\n",
       "      <td>68.781904</td>\n",
       "      <td>162.310473</td>\n",
       "    </tr>\n",
       "    <tr>\n",
       "      <th>2</th>\n",
       "      <td>Male</td>\n",
       "      <td>74.110105</td>\n",
       "      <td>212.740856</td>\n",
       "    </tr>\n",
       "    <tr>\n",
       "      <th>3</th>\n",
       "      <td>Male</td>\n",
       "      <td>71.730978</td>\n",
       "      <td>220.042470</td>\n",
       "    </tr>\n",
       "    <tr>\n",
       "      <th>4</th>\n",
       "      <td>Male</td>\n",
       "      <td>69.881796</td>\n",
       "      <td>206.349801</td>\n",
       "    </tr>\n",
       "  </tbody>\n",
       "</table>\n",
       "</div>"
      ],
      "text/plain": [
       "  Gender     Height      Weight\n",
       "0   Male  73.847017  241.893563\n",
       "1   Male  68.781904  162.310473\n",
       "2   Male  74.110105  212.740856\n",
       "3   Male  71.730978  220.042470\n",
       "4   Male  69.881796  206.349801"
      ]
     },
     "execution_count": 3,
     "metadata": {},
     "output_type": "execute_result"
    }
   ],
   "source": [
    "df.head()"
   ]
  },
  {
   "cell_type": "markdown",
   "id": "b5cbc165",
   "metadata": {
    "papermill": {
     "duration": 0.007004,
     "end_time": "2024-07-08T18:20:56.532697",
     "exception": false,
     "start_time": "2024-07-08T18:20:56.525693",
     "status": "completed"
    },
    "tags": []
   },
   "source": [
    "**Dataset Analysis**"
   ]
  },
  {
   "cell_type": "code",
   "execution_count": 4,
   "id": "239e6514",
   "metadata": {
    "execution": {
     "iopub.execute_input": "2024-07-08T18:20:56.548932Z",
     "iopub.status.busy": "2024-07-08T18:20:56.548515Z",
     "iopub.status.idle": "2024-07-08T18:20:56.555481Z",
     "shell.execute_reply": "2024-07-08T18:20:56.554440Z"
    },
    "papermill": {
     "duration": 0.017753,
     "end_time": "2024-07-08T18:20:56.557742",
     "exception": false,
     "start_time": "2024-07-08T18:20:56.539989",
     "status": "completed"
    },
    "tags": []
   },
   "outputs": [
    {
     "data": {
      "text/plain": [
       "(10000, 3)"
      ]
     },
     "execution_count": 4,
     "metadata": {},
     "output_type": "execute_result"
    }
   ],
   "source": [
    "#What is the size of the dataset?\n",
    "df.shape"
   ]
  },
  {
   "cell_type": "code",
   "execution_count": 5,
   "id": "073fff34",
   "metadata": {
    "execution": {
     "iopub.execute_input": "2024-07-08T18:20:56.574163Z",
     "iopub.status.busy": "2024-07-08T18:20:56.573782Z",
     "iopub.status.idle": "2024-07-08T18:20:56.595396Z",
     "shell.execute_reply": "2024-07-08T18:20:56.594231Z"
    },
    "papermill": {
     "duration": 0.03245,
     "end_time": "2024-07-08T18:20:56.597709",
     "exception": false,
     "start_time": "2024-07-08T18:20:56.565259",
     "status": "completed"
    },
    "tags": []
   },
   "outputs": [
    {
     "data": {
      "text/html": [
       "<div>\n",
       "<style scoped>\n",
       "    .dataframe tbody tr th:only-of-type {\n",
       "        vertical-align: middle;\n",
       "    }\n",
       "\n",
       "    .dataframe tbody tr th {\n",
       "        vertical-align: top;\n",
       "    }\n",
       "\n",
       "    .dataframe thead th {\n",
       "        text-align: right;\n",
       "    }\n",
       "</style>\n",
       "<table border=\"1\" class=\"dataframe\">\n",
       "  <thead>\n",
       "    <tr style=\"text-align: right;\">\n",
       "      <th></th>\n",
       "      <th>Gender</th>\n",
       "      <th>Height</th>\n",
       "      <th>Weight</th>\n",
       "    </tr>\n",
       "  </thead>\n",
       "  <tbody>\n",
       "    <tr>\n",
       "      <th>2694</th>\n",
       "      <td>Male</td>\n",
       "      <td>63.973557</td>\n",
       "      <td>160.063502</td>\n",
       "    </tr>\n",
       "    <tr>\n",
       "      <th>4394</th>\n",
       "      <td>Male</td>\n",
       "      <td>66.299441</td>\n",
       "      <td>159.235988</td>\n",
       "    </tr>\n",
       "    <tr>\n",
       "      <th>4336</th>\n",
       "      <td>Male</td>\n",
       "      <td>68.451084</td>\n",
       "      <td>166.832799</td>\n",
       "    </tr>\n",
       "    <tr>\n",
       "      <th>351</th>\n",
       "      <td>Male</td>\n",
       "      <td>67.272143</td>\n",
       "      <td>182.394335</td>\n",
       "    </tr>\n",
       "    <tr>\n",
       "      <th>46</th>\n",
       "      <td>Male</td>\n",
       "      <td>68.251836</td>\n",
       "      <td>187.060552</td>\n",
       "    </tr>\n",
       "    <tr>\n",
       "      <th>5291</th>\n",
       "      <td>Female</td>\n",
       "      <td>63.599373</td>\n",
       "      <td>130.048575</td>\n",
       "    </tr>\n",
       "    <tr>\n",
       "      <th>3471</th>\n",
       "      <td>Male</td>\n",
       "      <td>64.042625</td>\n",
       "      <td>154.423733</td>\n",
       "    </tr>\n",
       "    <tr>\n",
       "      <th>3045</th>\n",
       "      <td>Male</td>\n",
       "      <td>70.968528</td>\n",
       "      <td>183.196714</td>\n",
       "    </tr>\n",
       "    <tr>\n",
       "      <th>8438</th>\n",
       "      <td>Female</td>\n",
       "      <td>59.893894</td>\n",
       "      <td>116.759560</td>\n",
       "    </tr>\n",
       "    <tr>\n",
       "      <th>2393</th>\n",
       "      <td>Male</td>\n",
       "      <td>68.011749</td>\n",
       "      <td>175.015090</td>\n",
       "    </tr>\n",
       "  </tbody>\n",
       "</table>\n",
       "</div>"
      ],
      "text/plain": [
       "      Gender     Height      Weight\n",
       "2694    Male  63.973557  160.063502\n",
       "4394    Male  66.299441  159.235988\n",
       "4336    Male  68.451084  166.832799\n",
       "351     Male  67.272143  182.394335\n",
       "46      Male  68.251836  187.060552\n",
       "5291  Female  63.599373  130.048575\n",
       "3471    Male  64.042625  154.423733\n",
       "3045    Male  70.968528  183.196714\n",
       "8438  Female  59.893894  116.759560\n",
       "2393    Male  68.011749  175.015090"
      ]
     },
     "execution_count": 5,
     "metadata": {},
     "output_type": "execute_result"
    }
   ],
   "source": [
    "# What is the structure of the dataset?\n",
    "df.sample(10)"
   ]
  },
  {
   "cell_type": "code",
   "execution_count": 6,
   "id": "94f55aef",
   "metadata": {
    "execution": {
     "iopub.execute_input": "2024-07-08T18:20:56.614963Z",
     "iopub.status.busy": "2024-07-08T18:20:56.614607Z",
     "iopub.status.idle": "2024-07-08T18:20:56.625618Z",
     "shell.execute_reply": "2024-07-08T18:20:56.624098Z"
    },
    "papermill": {
     "duration": 0.022328,
     "end_time": "2024-07-08T18:20:56.627823",
     "exception": false,
     "start_time": "2024-07-08T18:20:56.605495",
     "status": "completed"
    },
    "tags": []
   },
   "outputs": [
    {
     "data": {
      "text/plain": [
       "Gender    0\n",
       "Height    0\n",
       "Weight    0\n",
       "dtype: int64"
      ]
     },
     "execution_count": 6,
     "metadata": {},
     "output_type": "execute_result"
    }
   ],
   "source": [
    "# Are there any null values?\n",
    "df.isnull().sum()"
   ]
  },
  {
   "cell_type": "code",
   "execution_count": 7,
   "id": "c2138aba",
   "metadata": {
    "execution": {
     "iopub.execute_input": "2024-07-08T18:20:56.644949Z",
     "iopub.status.busy": "2024-07-08T18:20:56.644580Z",
     "iopub.status.idle": "2024-07-08T18:20:56.660601Z",
     "shell.execute_reply": "2024-07-08T18:20:56.659440Z"
    },
    "papermill": {
     "duration": 0.027277,
     "end_time": "2024-07-08T18:20:56.662953",
     "exception": false,
     "start_time": "2024-07-08T18:20:56.635676",
     "status": "completed"
    },
    "tags": []
   },
   "outputs": [
    {
     "data": {
      "text/plain": [
       "0"
      ]
     },
     "execution_count": 7,
     "metadata": {},
     "output_type": "execute_result"
    }
   ],
   "source": [
    "# Are there any duplicate values?\n",
    "df.duplicated().sum()"
   ]
  },
  {
   "cell_type": "code",
   "execution_count": 8,
   "id": "d4044318",
   "metadata": {
    "execution": {
     "iopub.execute_input": "2024-07-08T18:20:56.680187Z",
     "iopub.status.busy": "2024-07-08T18:20:56.679794Z",
     "iopub.status.idle": "2024-07-08T18:20:56.700411Z",
     "shell.execute_reply": "2024-07-08T18:20:56.698862Z"
    },
    "papermill": {
     "duration": 0.032313,
     "end_time": "2024-07-08T18:20:56.703048",
     "exception": false,
     "start_time": "2024-07-08T18:20:56.670735",
     "status": "completed"
    },
    "tags": []
   },
   "outputs": [
    {
     "name": "stdout",
     "output_type": "stream",
     "text": [
      "<class 'pandas.core.frame.DataFrame'>\n",
      "RangeIndex: 10000 entries, 0 to 9999\n",
      "Data columns (total 3 columns):\n",
      " #   Column  Non-Null Count  Dtype  \n",
      "---  ------  --------------  -----  \n",
      " 0   Gender  10000 non-null  object \n",
      " 1   Height  10000 non-null  float64\n",
      " 2   Weight  10000 non-null  float64\n",
      "dtypes: float64(2), object(1)\n",
      "memory usage: 234.5+ KB\n"
     ]
    }
   ],
   "source": [
    "# What is the datatypes of the columns?\n",
    "df.info()"
   ]
  },
  {
   "cell_type": "code",
   "execution_count": 9,
   "id": "af6c22f0",
   "metadata": {
    "execution": {
     "iopub.execute_input": "2024-07-08T18:20:56.720914Z",
     "iopub.status.busy": "2024-07-08T18:20:56.720544Z",
     "iopub.status.idle": "2024-07-08T18:20:56.739892Z",
     "shell.execute_reply": "2024-07-08T18:20:56.738757Z"
    },
    "papermill": {
     "duration": 0.031609,
     "end_time": "2024-07-08T18:20:56.742706",
     "exception": false,
     "start_time": "2024-07-08T18:20:56.711097",
     "status": "completed"
    },
    "tags": []
   },
   "outputs": [
    {
     "data": {
      "text/html": [
       "<div>\n",
       "<style scoped>\n",
       "    .dataframe tbody tr th:only-of-type {\n",
       "        vertical-align: middle;\n",
       "    }\n",
       "\n",
       "    .dataframe tbody tr th {\n",
       "        vertical-align: top;\n",
       "    }\n",
       "\n",
       "    .dataframe thead th {\n",
       "        text-align: right;\n",
       "    }\n",
       "</style>\n",
       "<table border=\"1\" class=\"dataframe\">\n",
       "  <thead>\n",
       "    <tr style=\"text-align: right;\">\n",
       "      <th></th>\n",
       "      <th>Height</th>\n",
       "      <th>Weight</th>\n",
       "    </tr>\n",
       "  </thead>\n",
       "  <tbody>\n",
       "    <tr>\n",
       "      <th>count</th>\n",
       "      <td>10000.000000</td>\n",
       "      <td>10000.000000</td>\n",
       "    </tr>\n",
       "    <tr>\n",
       "      <th>mean</th>\n",
       "      <td>66.367560</td>\n",
       "      <td>161.440357</td>\n",
       "    </tr>\n",
       "    <tr>\n",
       "      <th>std</th>\n",
       "      <td>3.847528</td>\n",
       "      <td>32.108439</td>\n",
       "    </tr>\n",
       "    <tr>\n",
       "      <th>min</th>\n",
       "      <td>54.263133</td>\n",
       "      <td>64.700127</td>\n",
       "    </tr>\n",
       "    <tr>\n",
       "      <th>25%</th>\n",
       "      <td>63.505620</td>\n",
       "      <td>135.818051</td>\n",
       "    </tr>\n",
       "    <tr>\n",
       "      <th>50%</th>\n",
       "      <td>66.318070</td>\n",
       "      <td>161.212928</td>\n",
       "    </tr>\n",
       "    <tr>\n",
       "      <th>75%</th>\n",
       "      <td>69.174262</td>\n",
       "      <td>187.169525</td>\n",
       "    </tr>\n",
       "    <tr>\n",
       "      <th>max</th>\n",
       "      <td>78.998742</td>\n",
       "      <td>269.989699</td>\n",
       "    </tr>\n",
       "  </tbody>\n",
       "</table>\n",
       "</div>"
      ],
      "text/plain": [
       "             Height        Weight\n",
       "count  10000.000000  10000.000000\n",
       "mean      66.367560    161.440357\n",
       "std        3.847528     32.108439\n",
       "min       54.263133     64.700127\n",
       "25%       63.505620    135.818051\n",
       "50%       66.318070    161.212928\n",
       "75%       69.174262    187.169525\n",
       "max       78.998742    269.989699"
      ]
     },
     "execution_count": 9,
     "metadata": {},
     "output_type": "execute_result"
    }
   ],
   "source": [
    "# What is the mathematical overview of the dataset?\n",
    "df.describe()"
   ]
  },
  {
   "cell_type": "markdown",
   "id": "4bac3fe7",
   "metadata": {
    "papermill": {
     "duration": 0.007755,
     "end_time": "2024-07-08T18:20:56.759218",
     "exception": false,
     "start_time": "2024-07-08T18:20:56.751463",
     "status": "completed"
    },
    "tags": []
   },
   "source": [
    "**Preprocessing**"
   ]
  },
  {
   "cell_type": "code",
   "execution_count": 10,
   "id": "05562091",
   "metadata": {
    "execution": {
     "iopub.execute_input": "2024-07-08T18:20:56.777496Z",
     "iopub.status.busy": "2024-07-08T18:20:56.776967Z",
     "iopub.status.idle": "2024-07-08T18:20:56.788140Z",
     "shell.execute_reply": "2024-07-08T18:20:56.787060Z"
    },
    "papermill": {
     "duration": 0.023209,
     "end_time": "2024-07-08T18:20:56.790554",
     "exception": false,
     "start_time": "2024-07-08T18:20:56.767345",
     "status": "completed"
    },
    "tags": []
   },
   "outputs": [
    {
     "data": {
      "text/html": [
       "<div>\n",
       "<style scoped>\n",
       "    .dataframe tbody tr th:only-of-type {\n",
       "        vertical-align: middle;\n",
       "    }\n",
       "\n",
       "    .dataframe tbody tr th {\n",
       "        vertical-align: top;\n",
       "    }\n",
       "\n",
       "    .dataframe thead th {\n",
       "        text-align: right;\n",
       "    }\n",
       "</style>\n",
       "<table border=\"1\" class=\"dataframe\">\n",
       "  <thead>\n",
       "    <tr style=\"text-align: right;\">\n",
       "      <th></th>\n",
       "      <th>Gender</th>\n",
       "      <th>Height</th>\n",
       "      <th>Weight</th>\n",
       "    </tr>\n",
       "  </thead>\n",
       "  <tbody>\n",
       "    <tr>\n",
       "      <th>0</th>\n",
       "      <td>Male</td>\n",
       "      <td>73.847017</td>\n",
       "      <td>241.893563</td>\n",
       "    </tr>\n",
       "    <tr>\n",
       "      <th>1</th>\n",
       "      <td>Male</td>\n",
       "      <td>68.781904</td>\n",
       "      <td>162.310473</td>\n",
       "    </tr>\n",
       "    <tr>\n",
       "      <th>2</th>\n",
       "      <td>Male</td>\n",
       "      <td>74.110105</td>\n",
       "      <td>212.740856</td>\n",
       "    </tr>\n",
       "    <tr>\n",
       "      <th>3</th>\n",
       "      <td>Male</td>\n",
       "      <td>71.730978</td>\n",
       "      <td>220.042470</td>\n",
       "    </tr>\n",
       "    <tr>\n",
       "      <th>4</th>\n",
       "      <td>Male</td>\n",
       "      <td>69.881796</td>\n",
       "      <td>206.349801</td>\n",
       "    </tr>\n",
       "  </tbody>\n",
       "</table>\n",
       "</div>"
      ],
      "text/plain": [
       "  Gender     Height      Weight\n",
       "0   Male  73.847017  241.893563\n",
       "1   Male  68.781904  162.310473\n",
       "2   Male  74.110105  212.740856\n",
       "3   Male  71.730978  220.042470\n",
       "4   Male  69.881796  206.349801"
      ]
     },
     "execution_count": 10,
     "metadata": {},
     "output_type": "execute_result"
    }
   ],
   "source": [
    "df.head()"
   ]
  },
  {
   "cell_type": "code",
   "execution_count": 11,
   "id": "fb52edea",
   "metadata": {
    "execution": {
     "iopub.execute_input": "2024-07-08T18:20:56.808852Z",
     "iopub.status.busy": "2024-07-08T18:20:56.808454Z",
     "iopub.status.idle": "2024-07-08T18:20:56.815839Z",
     "shell.execute_reply": "2024-07-08T18:20:56.814628Z"
    },
    "papermill": {
     "duration": 0.019356,
     "end_time": "2024-07-08T18:20:56.818228",
     "exception": false,
     "start_time": "2024-07-08T18:20:56.798872",
     "status": "completed"
    },
    "tags": []
   },
   "outputs": [],
   "source": [
    "# Since the Gender column consists of categorical data. \n",
    "# Therefore, we need to convert it into numerical by mapping\n",
    "\n",
    "df['Gender'] = df['Gender'].map({'Female': 0, 'Male': 1})"
   ]
  },
  {
   "cell_type": "code",
   "execution_count": 12,
   "id": "013999f0",
   "metadata": {
    "execution": {
     "iopub.execute_input": "2024-07-08T18:20:56.837126Z",
     "iopub.status.busy": "2024-07-08T18:20:56.836745Z",
     "iopub.status.idle": "2024-07-08T18:20:56.847458Z",
     "shell.execute_reply": "2024-07-08T18:20:56.846343Z"
    },
    "papermill": {
     "duration": 0.022602,
     "end_time": "2024-07-08T18:20:56.849735",
     "exception": false,
     "start_time": "2024-07-08T18:20:56.827133",
     "status": "completed"
    },
    "tags": []
   },
   "outputs": [
    {
     "data": {
      "text/html": [
       "<div>\n",
       "<style scoped>\n",
       "    .dataframe tbody tr th:only-of-type {\n",
       "        vertical-align: middle;\n",
       "    }\n",
       "\n",
       "    .dataframe tbody tr th {\n",
       "        vertical-align: top;\n",
       "    }\n",
       "\n",
       "    .dataframe thead th {\n",
       "        text-align: right;\n",
       "    }\n",
       "</style>\n",
       "<table border=\"1\" class=\"dataframe\">\n",
       "  <thead>\n",
       "    <tr style=\"text-align: right;\">\n",
       "      <th></th>\n",
       "      <th>Gender</th>\n",
       "      <th>Height</th>\n",
       "      <th>Weight</th>\n",
       "    </tr>\n",
       "  </thead>\n",
       "  <tbody>\n",
       "    <tr>\n",
       "      <th>0</th>\n",
       "      <td>1</td>\n",
       "      <td>73.847017</td>\n",
       "      <td>241.893563</td>\n",
       "    </tr>\n",
       "    <tr>\n",
       "      <th>1</th>\n",
       "      <td>1</td>\n",
       "      <td>68.781904</td>\n",
       "      <td>162.310473</td>\n",
       "    </tr>\n",
       "    <tr>\n",
       "      <th>2</th>\n",
       "      <td>1</td>\n",
       "      <td>74.110105</td>\n",
       "      <td>212.740856</td>\n",
       "    </tr>\n",
       "    <tr>\n",
       "      <th>3</th>\n",
       "      <td>1</td>\n",
       "      <td>71.730978</td>\n",
       "      <td>220.042470</td>\n",
       "    </tr>\n",
       "    <tr>\n",
       "      <th>4</th>\n",
       "      <td>1</td>\n",
       "      <td>69.881796</td>\n",
       "      <td>206.349801</td>\n",
       "    </tr>\n",
       "  </tbody>\n",
       "</table>\n",
       "</div>"
      ],
      "text/plain": [
       "   Gender     Height      Weight\n",
       "0       1  73.847017  241.893563\n",
       "1       1  68.781904  162.310473\n",
       "2       1  74.110105  212.740856\n",
       "3       1  71.730978  220.042470\n",
       "4       1  69.881796  206.349801"
      ]
     },
     "execution_count": 12,
     "metadata": {},
     "output_type": "execute_result"
    }
   ],
   "source": [
    "df.head()"
   ]
  },
  {
   "cell_type": "markdown",
   "id": "7982c479",
   "metadata": {
    "papermill": {
     "duration": 0.008419,
     "end_time": "2024-07-08T18:20:56.866572",
     "exception": false,
     "start_time": "2024-07-08T18:20:56.858153",
     "status": "completed"
    },
    "tags": []
   },
   "source": [
    "**Train_test_split**"
   ]
  },
  {
   "cell_type": "code",
   "execution_count": 13,
   "id": "caea70e0",
   "metadata": {
    "execution": {
     "iopub.execute_input": "2024-07-08T18:20:56.885231Z",
     "iopub.status.busy": "2024-07-08T18:20:56.884842Z",
     "iopub.status.idle": "2024-07-08T18:20:57.259487Z",
     "shell.execute_reply": "2024-07-08T18:20:57.258481Z"
    },
    "papermill": {
     "duration": 0.387008,
     "end_time": "2024-07-08T18:20:57.262156",
     "exception": false,
     "start_time": "2024-07-08T18:20:56.875148",
     "status": "completed"
    },
    "tags": []
   },
   "outputs": [],
   "source": [
    "# First, we need to apply train_test_split\n",
    "\n",
    "from sklearn.model_selection import train_test_split"
   ]
  },
  {
   "cell_type": "code",
   "execution_count": 14,
   "id": "6587f297",
   "metadata": {
    "execution": {
     "iopub.execute_input": "2024-07-08T18:20:57.281149Z",
     "iopub.status.busy": "2024-07-08T18:20:57.280754Z",
     "iopub.status.idle": "2024-07-08T18:20:57.290144Z",
     "shell.execute_reply": "2024-07-08T18:20:57.289120Z"
    },
    "papermill": {
     "duration": 0.021538,
     "end_time": "2024-07-08T18:20:57.292480",
     "exception": false,
     "start_time": "2024-07-08T18:20:57.270942",
     "status": "completed"
    },
    "tags": []
   },
   "outputs": [],
   "source": [
    "X_train, X_test, y_train, y_test = train_test_split(df.drop('Gender', axis=1), df['Gender'], random_state=0, test_size=0.2)"
   ]
  },
  {
   "cell_type": "code",
   "execution_count": 15,
   "id": "e16f832f",
   "metadata": {
    "execution": {
     "iopub.execute_input": "2024-07-08T18:20:57.311081Z",
     "iopub.status.busy": "2024-07-08T18:20:57.310726Z",
     "iopub.status.idle": "2024-07-08T18:20:57.317609Z",
     "shell.execute_reply": "2024-07-08T18:20:57.316565Z"
    },
    "papermill": {
     "duration": 0.018992,
     "end_time": "2024-07-08T18:20:57.319939",
     "exception": false,
     "start_time": "2024-07-08T18:20:57.300947",
     "status": "completed"
    },
    "tags": []
   },
   "outputs": [
    {
     "data": {
      "text/plain": [
       "((8000, 2), (2000, 2))"
      ]
     },
     "execution_count": 15,
     "metadata": {},
     "output_type": "execute_result"
    }
   ],
   "source": [
    "X_train.shape, X_test.shape"
   ]
  },
  {
   "cell_type": "markdown",
   "id": "9f7e7127",
   "metadata": {
    "papermill": {
     "duration": 0.008219,
     "end_time": "2024-07-08T18:20:57.336778",
     "exception": false,
     "start_time": "2024-07-08T18:20:57.328559",
     "status": "completed"
    },
    "tags": []
   },
   "source": [
    "**StandardScaler**"
   ]
  },
  {
   "cell_type": "code",
   "execution_count": 16,
   "id": "34e07990",
   "metadata": {
    "execution": {
     "iopub.execute_input": "2024-07-08T18:20:57.355521Z",
     "iopub.status.busy": "2024-07-08T18:20:57.355093Z",
     "iopub.status.idle": "2024-07-08T18:20:57.360737Z",
     "shell.execute_reply": "2024-07-08T18:20:57.359421Z"
    },
    "papermill": {
     "duration": 0.01788,
     "end_time": "2024-07-08T18:20:57.363075",
     "exception": false,
     "start_time": "2024-07-08T18:20:57.345195",
     "status": "completed"
    },
    "tags": []
   },
   "outputs": [],
   "source": [
    "from sklearn.preprocessing import StandardScaler\n",
    "\n",
    "sc = StandardScaler()"
   ]
  },
  {
   "cell_type": "code",
   "execution_count": 17,
   "id": "f95665f2",
   "metadata": {
    "execution": {
     "iopub.execute_input": "2024-07-08T18:20:57.382036Z",
     "iopub.status.busy": "2024-07-08T18:20:57.381629Z",
     "iopub.status.idle": "2024-07-08T18:20:57.392833Z",
     "shell.execute_reply": "2024-07-08T18:20:57.391790Z"
    },
    "papermill": {
     "duration": 0.023678,
     "end_time": "2024-07-08T18:20:57.395369",
     "exception": false,
     "start_time": "2024-07-08T18:20:57.371691",
     "status": "completed"
    },
    "tags": []
   },
   "outputs": [],
   "source": [
    "sc.fit(X_train)\n",
    "\n",
    "X_train_scaled = sc.transform(X_train)\n",
    "X_test_scaled = sc.transform(X_test)"
   ]
  },
  {
   "cell_type": "code",
   "execution_count": 18,
   "id": "71ba17aa",
   "metadata": {
    "execution": {
     "iopub.execute_input": "2024-07-08T18:20:57.414689Z",
     "iopub.status.busy": "2024-07-08T18:20:57.414249Z",
     "iopub.status.idle": "2024-07-08T18:20:57.421659Z",
     "shell.execute_reply": "2024-07-08T18:20:57.420603Z"
    },
    "papermill": {
     "duration": 0.019828,
     "end_time": "2024-07-08T18:20:57.424052",
     "exception": false,
     "start_time": "2024-07-08T18:20:57.404224",
     "status": "completed"
    },
    "tags": []
   },
   "outputs": [
    {
     "data": {
      "text/plain": [
       "array([[-1.82162984, -1.33285162],\n",
       "       [-0.63969087, -0.14847181],\n",
       "       [ 1.74026908,  1.54444689],\n",
       "       ...,\n",
       "       [ 0.28292964,  0.02903751],\n",
       "       [-1.10459869, -0.7714607 ],\n",
       "       [ 1.0962628 ,  0.83831503]])"
      ]
     },
     "execution_count": 18,
     "metadata": {},
     "output_type": "execute_result"
    }
   ],
   "source": [
    "X_train_scaled"
   ]
  },
  {
   "cell_type": "code",
   "execution_count": 19,
   "id": "1deef81e",
   "metadata": {
    "execution": {
     "iopub.execute_input": "2024-07-08T18:20:57.445981Z",
     "iopub.status.busy": "2024-07-08T18:20:57.445216Z",
     "iopub.status.idle": "2024-07-08T18:20:57.451467Z",
     "shell.execute_reply": "2024-07-08T18:20:57.450184Z"
    },
    "papermill": {
     "duration": 0.018957,
     "end_time": "2024-07-08T18:20:57.453953",
     "exception": false,
     "start_time": "2024-07-08T18:20:57.434996",
     "status": "completed"
    },
    "tags": []
   },
   "outputs": [],
   "source": [
    "# the StandardScaler class returns numpy array\n",
    "# Therefore, we will convert it back into dataframe\n",
    "\n",
    "X_train_scaled = pd.DataFrame(X_train_scaled, columns=X_train.columns)\n",
    "X_test_scaled = pd.DataFrame(X_test_scaled, columns=X_test.columns)"
   ]
  },
  {
   "cell_type": "code",
   "execution_count": 20,
   "id": "a3d986ae",
   "metadata": {
    "execution": {
     "iopub.execute_input": "2024-07-08T18:20:57.473575Z",
     "iopub.status.busy": "2024-07-08T18:20:57.473170Z",
     "iopub.status.idle": "2024-07-08T18:20:57.485717Z",
     "shell.execute_reply": "2024-07-08T18:20:57.484699Z"
    },
    "papermill": {
     "duration": 0.024905,
     "end_time": "2024-07-08T18:20:57.487992",
     "exception": false,
     "start_time": "2024-07-08T18:20:57.463087",
     "status": "completed"
    },
    "tags": []
   },
   "outputs": [
    {
     "data": {
      "text/html": [
       "<div>\n",
       "<style scoped>\n",
       "    .dataframe tbody tr th:only-of-type {\n",
       "        vertical-align: middle;\n",
       "    }\n",
       "\n",
       "    .dataframe tbody tr th {\n",
       "        vertical-align: top;\n",
       "    }\n",
       "\n",
       "    .dataframe thead th {\n",
       "        text-align: right;\n",
       "    }\n",
       "</style>\n",
       "<table border=\"1\" class=\"dataframe\">\n",
       "  <thead>\n",
       "    <tr style=\"text-align: right;\">\n",
       "      <th></th>\n",
       "      <th>Height</th>\n",
       "      <th>Weight</th>\n",
       "    </tr>\n",
       "  </thead>\n",
       "  <tbody>\n",
       "    <tr>\n",
       "      <th>0</th>\n",
       "      <td>-1.821630</td>\n",
       "      <td>-1.332852</td>\n",
       "    </tr>\n",
       "    <tr>\n",
       "      <th>1</th>\n",
       "      <td>-0.639691</td>\n",
       "      <td>-0.148472</td>\n",
       "    </tr>\n",
       "    <tr>\n",
       "      <th>2</th>\n",
       "      <td>1.740269</td>\n",
       "      <td>1.544447</td>\n",
       "    </tr>\n",
       "    <tr>\n",
       "      <th>3</th>\n",
       "      <td>-1.026777</td>\n",
       "      <td>-1.057056</td>\n",
       "    </tr>\n",
       "    <tr>\n",
       "      <th>4</th>\n",
       "      <td>1.068693</td>\n",
       "      <td>0.483665</td>\n",
       "    </tr>\n",
       "    <tr>\n",
       "      <th>...</th>\n",
       "      <td>...</td>\n",
       "      <td>...</td>\n",
       "    </tr>\n",
       "    <tr>\n",
       "      <th>7995</th>\n",
       "      <td>-1.547971</td>\n",
       "      <td>-2.002733</td>\n",
       "    </tr>\n",
       "    <tr>\n",
       "      <th>7996</th>\n",
       "      <td>0.091590</td>\n",
       "      <td>0.392973</td>\n",
       "    </tr>\n",
       "    <tr>\n",
       "      <th>7997</th>\n",
       "      <td>0.282930</td>\n",
       "      <td>0.029038</td>\n",
       "    </tr>\n",
       "    <tr>\n",
       "      <th>7998</th>\n",
       "      <td>-1.104599</td>\n",
       "      <td>-0.771461</td>\n",
       "    </tr>\n",
       "    <tr>\n",
       "      <th>7999</th>\n",
       "      <td>1.096263</td>\n",
       "      <td>0.838315</td>\n",
       "    </tr>\n",
       "  </tbody>\n",
       "</table>\n",
       "<p>8000 rows × 2 columns</p>\n",
       "</div>"
      ],
      "text/plain": [
       "        Height    Weight\n",
       "0    -1.821630 -1.332852\n",
       "1    -0.639691 -0.148472\n",
       "2     1.740269  1.544447\n",
       "3    -1.026777 -1.057056\n",
       "4     1.068693  0.483665\n",
       "...        ...       ...\n",
       "7995 -1.547971 -2.002733\n",
       "7996  0.091590  0.392973\n",
       "7997  0.282930  0.029038\n",
       "7998 -1.104599 -0.771461\n",
       "7999  1.096263  0.838315\n",
       "\n",
       "[8000 rows x 2 columns]"
      ]
     },
     "execution_count": 20,
     "metadata": {},
     "output_type": "execute_result"
    }
   ],
   "source": [
    "X_train_scaled"
   ]
  },
  {
   "cell_type": "code",
   "execution_count": 21,
   "id": "0585f026",
   "metadata": {
    "execution": {
     "iopub.execute_input": "2024-07-08T18:20:57.507593Z",
     "iopub.status.busy": "2024-07-08T18:20:57.507142Z",
     "iopub.status.idle": "2024-07-08T18:20:57.514178Z",
     "shell.execute_reply": "2024-07-08T18:20:57.513067Z"
    },
    "papermill": {
     "duration": 0.019683,
     "end_time": "2024-07-08T18:20:57.516491",
     "exception": false,
     "start_time": "2024-07-08T18:20:57.496808",
     "status": "completed"
    },
    "tags": []
   },
   "outputs": [
    {
     "data": {
      "text/plain": [
       "array([ 66.37829176, 161.54396404])"
      ]
     },
     "execution_count": 21,
     "metadata": {},
     "output_type": "execute_result"
    }
   ],
   "source": [
    "sc.mean_"
   ]
  },
  {
   "cell_type": "code",
   "execution_count": 22,
   "id": "c36074b8",
   "metadata": {
    "execution": {
     "iopub.execute_input": "2024-07-08T18:20:57.536326Z",
     "iopub.status.busy": "2024-07-08T18:20:57.535902Z",
     "iopub.status.idle": "2024-07-08T18:20:57.554837Z",
     "shell.execute_reply": "2024-07-08T18:20:57.553575Z"
    },
    "papermill": {
     "duration": 0.031612,
     "end_time": "2024-07-08T18:20:57.557191",
     "exception": false,
     "start_time": "2024-07-08T18:20:57.525579",
     "status": "completed"
    },
    "tags": []
   },
   "outputs": [
    {
     "data": {
      "text/html": [
       "<div>\n",
       "<style scoped>\n",
       "    .dataframe tbody tr th:only-of-type {\n",
       "        vertical-align: middle;\n",
       "    }\n",
       "\n",
       "    .dataframe tbody tr th {\n",
       "        vertical-align: top;\n",
       "    }\n",
       "\n",
       "    .dataframe thead th {\n",
       "        text-align: right;\n",
       "    }\n",
       "</style>\n",
       "<table border=\"1\" class=\"dataframe\">\n",
       "  <thead>\n",
       "    <tr style=\"text-align: right;\">\n",
       "      <th></th>\n",
       "      <th>Height</th>\n",
       "      <th>Weight</th>\n",
       "    </tr>\n",
       "  </thead>\n",
       "  <tbody>\n",
       "    <tr>\n",
       "      <th>count</th>\n",
       "      <td>8000.0</td>\n",
       "      <td>8000.0</td>\n",
       "    </tr>\n",
       "    <tr>\n",
       "      <th>mean</th>\n",
       "      <td>0.0</td>\n",
       "      <td>0.0</td>\n",
       "    </tr>\n",
       "    <tr>\n",
       "      <th>std</th>\n",
       "      <td>1.0</td>\n",
       "      <td>1.0</td>\n",
       "    </tr>\n",
       "    <tr>\n",
       "      <th>min</th>\n",
       "      <td>-3.1</td>\n",
       "      <td>-3.0</td>\n",
       "    </tr>\n",
       "    <tr>\n",
       "      <th>25%</th>\n",
       "      <td>-0.7</td>\n",
       "      <td>-0.8</td>\n",
       "    </tr>\n",
       "    <tr>\n",
       "      <th>50%</th>\n",
       "      <td>-0.0</td>\n",
       "      <td>0.0</td>\n",
       "    </tr>\n",
       "    <tr>\n",
       "      <th>75%</th>\n",
       "      <td>0.7</td>\n",
       "      <td>0.8</td>\n",
       "    </tr>\n",
       "    <tr>\n",
       "      <th>max</th>\n",
       "      <td>3.3</td>\n",
       "      <td>3.4</td>\n",
       "    </tr>\n",
       "  </tbody>\n",
       "</table>\n",
       "</div>"
      ],
      "text/plain": [
       "       Height  Weight\n",
       "count  8000.0  8000.0\n",
       "mean      0.0     0.0\n",
       "std       1.0     1.0\n",
       "min      -3.1    -3.0\n",
       "25%      -0.7    -0.8\n",
       "50%      -0.0     0.0\n",
       "75%       0.7     0.8\n",
       "max       3.3     3.4"
      ]
     },
     "execution_count": 22,
     "metadata": {},
     "output_type": "execute_result"
    }
   ],
   "source": [
    "np.round(X_train_scaled.describe(),1)"
   ]
  },
  {
   "cell_type": "code",
   "execution_count": 23,
   "id": "f8b083d8",
   "metadata": {
    "execution": {
     "iopub.execute_input": "2024-07-08T18:20:57.577635Z",
     "iopub.status.busy": "2024-07-08T18:20:57.577205Z",
     "iopub.status.idle": "2024-07-08T18:20:57.582671Z",
     "shell.execute_reply": "2024-07-08T18:20:57.581373Z"
    },
    "papermill": {
     "duration": 0.018541,
     "end_time": "2024-07-08T18:20:57.585104",
     "exception": false,
     "start_time": "2024-07-08T18:20:57.566563",
     "status": "completed"
    },
    "tags": []
   },
   "outputs": [],
   "source": [
    "#Mean = 0\n",
    "#Standard Deviation = 1\n",
    "\n",
    "# Since both parameters are correct. Therefore,\n",
    "# our standardization went correctly"
   ]
  },
  {
   "cell_type": "markdown",
   "id": "528dcfa5",
   "metadata": {
    "papermill": {
     "duration": 0.009,
     "end_time": "2024-07-08T18:20:57.603607",
     "exception": false,
     "start_time": "2024-07-08T18:20:57.594607",
     "status": "completed"
    },
    "tags": []
   },
   "source": [
    "**Effect of Scaling**"
   ]
  },
  {
   "cell_type": "code",
   "execution_count": 24,
   "id": "46e89c13",
   "metadata": {
    "execution": {
     "iopub.execute_input": "2024-07-08T18:20:57.624192Z",
     "iopub.status.busy": "2024-07-08T18:20:57.623798Z",
     "iopub.status.idle": "2024-07-08T18:20:58.103099Z",
     "shell.execute_reply": "2024-07-08T18:20:58.101824Z"
    },
    "papermill": {
     "duration": 0.492613,
     "end_time": "2024-07-08T18:20:58.105643",
     "exception": false,
     "start_time": "2024-07-08T18:20:57.613030",
     "status": "completed"
    },
    "tags": []
   },
   "outputs": [
    {
     "data": {
      "image/png": "[encoded data removed]",
      "text/plain": [
       "<Figure size 1200x500 with 2 Axes>"
      ]
     },
     "metadata": {},
     "output_type": "display_data"
    }
   ],
   "source": [
    "fig, (ax1, ax2) = plt.subplots(ncols=2, figsize=(12,5))\n",
    "\n",
    "ax1.scatter(X_train['Height'], X_train['Weight'])\n",
    "ax1.set_title(\"Before Scaling\")\n",
    "\n",
    "ax2.scatter(X_train_scaled['Height'], X_train_scaled['Weight'], color='red')\n",
    "ax2.set_title(\"After Scaling\")\n",
    "\n",
    "plt.show()"
   ]
  },
  {
   "cell_type": "code",
   "execution_count": 25,
   "id": "276e5037",
   "metadata": {
    "execution": {
     "iopub.execute_input": "2024-07-08T18:20:58.127397Z",
     "iopub.status.busy": "2024-07-08T18:20:58.126952Z",
     "iopub.status.idle": "2024-07-08T18:20:58.873206Z",
     "shell.execute_reply": "2024-07-08T18:20:58.872016Z"
    },
    "papermill": {
     "duration": 0.760351,
     "end_time": "2024-07-08T18:20:58.875971",
     "exception": false,
     "start_time": "2024-07-08T18:20:58.115620",
     "status": "completed"
    },
    "tags": []
   },
   "outputs": [
    {
     "name": "stderr",
     "output_type": "stream",
     "text": [
      "/opt/conda/lib/python3.10/site-packages/seaborn/_oldcore.py:1119: FutureWarning: use_inf_as_na option is deprecated and will be removed in a future version. Convert inf values to NaN before operating instead.\n",
      "  with pd.option_context('mode.use_inf_as_na', True):\n",
      "/opt/conda/lib/python3.10/site-packages/seaborn/_oldcore.py:1119: FutureWarning: use_inf_as_na option is deprecated and will be removed in a future version. Convert inf values to NaN before operating instead.\n",
      "  with pd.option_context('mode.use_inf_as_na', True):\n",
      "/opt/conda/lib/python3.10/site-packages/seaborn/_oldcore.py:1119: FutureWarning: use_inf_as_na option is deprecated and will be removed in a future version. Convert inf values to NaN before operating instead.\n",
      "  with pd.option_context('mode.use_inf_as_na', True):\n",
      "/opt/conda/lib/python3.10/site-packages/seaborn/_oldcore.py:1119: FutureWarning: use_inf_as_na option is deprecated and will be removed in a future version. Convert inf values to NaN before operating instead.\n",
      "  with pd.option_context('mode.use_inf_as_na', True):\n"
     ]
    },
    {
     "data": {
      "image/png": "[encoded data removed]",
      "text/plain": [
       "<Figure size 1200x500 with 2 Axes>"
      ]
     },
     "metadata": {},
     "output_type": "display_data"
    }
   ],
   "source": [
    "fig, (ax1,ax2) = plt.subplots(ncols=2, figsize=(12,5))\n",
    "\n",
    "# Before Scaling\n",
    "ax1.set_title(\"Before Scaling\")\n",
    "sns.kdeplot(X_train['Height'], ax=ax1)\n",
    "sns.kdeplot(X_train['Weight'], ax=ax1)\n",
    "\n",
    "# After Scaling\n",
    "ax2.set_title(\"After Standard Scaling\")\n",
    "sns.kdeplot(X_train_scaled['Height'], ax=ax2)\n",
    "sns.kdeplot(X_train_scaled['Weight'], ax=ax2)\n",
    "plt.show()"
   ]
  },
  {
   "cell_type": "markdown",
   "id": "b18688f2",
   "metadata": {
    "papermill": {
     "duration": 0.010743,
     "end_time": "2024-07-08T18:20:58.898254",
     "exception": false,
     "start_time": "2024-07-08T18:20:58.887511",
     "status": "completed"
    },
    "tags": []
   },
   "source": [
    "**Comparison of Distribution**"
   ]
  },
  {
   "cell_type": "code",
   "execution_count": 26,
   "id": "ea975f6a",
   "metadata": {
    "execution": {
     "iopub.execute_input": "2024-07-08T18:20:58.922214Z",
     "iopub.status.busy": "2024-07-08T18:20:58.921827Z",
     "iopub.status.idle": "2024-07-08T18:20:59.515903Z",
     "shell.execute_reply": "2024-07-08T18:20:59.514693Z"
    },
    "papermill": {
     "duration": 0.608886,
     "end_time": "2024-07-08T18:20:59.518370",
     "exception": false,
     "start_time": "2024-07-08T18:20:58.909484",
     "status": "completed"
    },
    "tags": []
   },
   "outputs": [
    {
     "name": "stderr",
     "output_type": "stream",
     "text": [
      "/opt/conda/lib/python3.10/site-packages/seaborn/_oldcore.py:1119: FutureWarning: use_inf_as_na option is deprecated and will be removed in a future version. Convert inf values to NaN before operating instead.\n",
      "  with pd.option_context('mode.use_inf_as_na', True):\n",
      "/opt/conda/lib/python3.10/site-packages/seaborn/_oldcore.py:1119: FutureWarning: use_inf_as_na option is deprecated and will be removed in a future version. Convert inf values to NaN before operating instead.\n",
      "  with pd.option_context('mode.use_inf_as_na', True):\n"
     ]
    },
    {
     "data": {
      "image/png": "[encoded data removed]",
      "text/plain": [
       "<Figure size 1200x500 with 2 Axes>"
      ]
     },
     "metadata": {},
     "output_type": "display_data"
    }
   ],
   "source": [
    "fig, (ax1, ax2) = plt.subplots(ncols=2, figsize=(12,5))\n",
    "\n",
    "# Before Scaling\n",
    "ax1.set_title('Age Distribution Before Scaling')\n",
    "sns.kdeplot(X_train['Height'], ax=ax1)\n",
    "\n",
    "# After Scaling \n",
    "ax2.set_title('Age Distribution after Standard Scaling')\n",
    "sns.kdeplot(X_train_scaled['Height'], ax=ax2)\n",
    "plt.show()"
   ]
  }
 ],
 "metadata": {
  "kaggle": {
   "accelerator": "none",
   "dataSources": [
    {
     "datasetId": 26073,
     "sourceId": 33239,
     "sourceType": "datasetVersion"
    }
   ],
   "dockerImageVersionId": 30732,
   "isGpuEnabled": false,
   "isInternetEnabled": false,
   "language": "python",
   "sourceType": "notebook"
  },
  "kernelspec": {
   "display_name": "Python 3",
   "language": "python",
   "name": "python3"
  },
  "language_info": {
   "codemirror_mode": {
    "name": "ipython",
    "version": 3
   },
   "file_extension": ".py",
   "mimetype": "text/x-python",
   "name": "python",
   "nbconvert_exporter": "python",
   "pygments_lexer": "ipython3",
   "version": "3.10.13"
  },
  "papermill": {
   "default_parameters": {},
   "duration": 8.98897,
   "end_time": "2024-07-08T18:21:00.152128",
   "environment_variables": {},
   "exception": null,
   "input_path": "__notebook__.ipynb",
   "output_path": "__notebook__.ipynb",
   "parameters": {},
   "start_time": "2024-07-08T18:20:51.163158",
   "version": "2.5.0"
  }
 },
 "nbformat": 4,
 "nbformat_minor": 5
}
